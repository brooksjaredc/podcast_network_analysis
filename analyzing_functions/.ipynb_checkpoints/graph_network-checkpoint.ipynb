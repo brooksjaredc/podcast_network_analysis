{
 "cells": [
  {
   "cell_type": "code",
   "execution_count": 1,
   "metadata": {},
   "outputs": [
    {
     "name": "stdout",
     "output_type": "stream",
     "text": [
      "11232\n"
     ]
    }
   ],
   "source": [
    "import pandas as pd\n",
    "import networkx as nx\n",
    "import pickle\n",
    "import ast\n",
    "\n",
    "df1 = pd.read_csv('../reading_and_cleaning/guest_host_cleaned_podcasts.csv', sep='\\t', index_col=0)\n",
    "split_hosts = pd.read_csv('../reading_and_cleaning/split_hosts.csv', sep='\\t', index_col=0)\n",
    "guest_durations = pd.read_csv('../reading_and_cleaning/guest_durations.csv', sep='\\t', index_col=0)\n",
    "G2 = nx.from_pandas_dataframe(guest_durations, 'guests', 'hosts', edge_attr=['duration'], create_using=nx.Graph())\n",
    "\n",
    "podcast_info = pd.read_csv('../reading_and_cleaning/meta_podcast_info.csv', sep='\\t', index_col=0)\n",
    "host_list = []\n",
    "for index1, row1 in podcast_info.iterrows():\n",
    "    hosts = ast.literal_eval(row1['Hosts'])\n",
    "    for host in hosts:\n",
    "        host_list.append(host)\n",
    "\n",
    "host_list = set(host_list)\n",
    "\n",
    "def load_obj(name ):\n",
    "    with open(name + '.pkl', 'rb') as f:\n",
    "        return pickle.load(f)\n",
    "\n",
    "top_cat = load_obj('top_categories')\n",
    "top_cat_num = pd.DataFrame.from_dict(top_cat, orient='index')\n",
    "top_cat_num = top_cat_num[0].astype('category').cat.codes.to_dict()\n",
    "\n",
    "G2 = nx.from_pandas_dataframe(guest_durations, 'guests', 'hosts', edge_attr=['duration'], create_using=nx.Graph())\n",
    "nx.set_node_attributes(G2, 'cat', top_cat) \n",
    "print(nx.number_of_nodes(G2))"
   ]
  },
  {
   "cell_type": "code",
   "execution_count": 2,
   "metadata": {},
   "outputs": [
    {
     "data": {
      "text/plain": [
       "1699"
      ]
     },
     "execution_count": 2,
     "metadata": {},
     "output_type": "execute_result"
    }
   ],
   "source": [
    "remove = [node for node,degree in G2.degree().items() if degree < 3]\n",
    "G2.remove_nodes_from(remove)\n",
    "nx.number_of_nodes(G2)"
   ]
  },
  {
   "cell_type": "code",
   "execution_count": 3,
   "metadata": {},
   "outputs": [],
   "source": [
    "import plotly.plotly as py\n",
    "from plotly.graph_objs import *\n",
    "\n",
    "\n",
    "pos = nx.spring_layout(G2)\n",
    "\n",
    "dmin=1\n",
    "ncenter=0\n",
    "for n in pos:\n",
    "    x,y=pos[n]\n",
    "    d=(x-0.5)**2+(y-0.5)**2\n",
    "    if d<dmin:\n",
    "        ncenter=n\n",
    "        dmin=d\n",
    "\n",
    "p=nx.single_source_shortest_path_length(G2,ncenter)\n",
    "\n",
    "nx.set_node_attributes(G2, 'pos', pos)"
   ]
  },
  {
   "cell_type": "code",
   "execution_count": 4,
   "metadata": {},
   "outputs": [],
   "source": [
    "edge_trace = Scatter(\n",
    "    x=[],\n",
    "    y=[],\n",
    "    line=Line(width=0.5,color='#888'),\n",
    "    #line=Line(width=0.5,colorscale='Electric',color=[]),\n",
    "    hoverinfo='none',\n",
    "    mode='lines',\n",
    "    showlegend=False)\n",
    "\n",
    "\n",
    "node_trace = Scatter(\n",
    "    x=[],\n",
    "    y=[],\n",
    "    text=[],\n",
    "    mode='markers',\n",
    "    hoverinfo='text',\n",
    "    name=[],\n",
    "    showlegend=True,\n",
    "    marker=Marker(\n",
    "        showscale=True,\n",
    "        # colorscale options\n",
    "        # 'G2reys' | 'G2reens' | 'Bluered' | 'Hot' | 'Picnic' | 'Portland' |\n",
    "        # Jet' | 'RdBu' | 'Blackbody' | 'Earth' | 'Electric' | 'YIOrRd' | 'YIG2nBu'\n",
    "        colorscale='Rainbow',    #'YIG2nBu',\n",
    "        reversescale=True,\n",
    "        color=[],\n",
    "        #name=[],\n",
    "        size=[],\n",
    "        colorbar=dict(\n",
    "            thickness=15,\n",
    "            title='Categories',\n",
    "            xanchor='left',\n",
    "            titleside='right'\n",
    "        ),\n",
    "        line=dict(width=1)))\n"
   ]
  },
  {
   "cell_type": "code",
   "execution_count": 5,
   "metadata": {},
   "outputs": [],
   "source": [
    "pr = load_obj('pr_dict')\n",
    "\n",
    "for edge in G2.edges():\n",
    "    x0, y0 = G2.node[edge[0]]['pos']\n",
    "    x1, y1 = G2.node[edge[1]]['pos']\n",
    "    edge_trace['x'] += [x0, x1, None]\n",
    "    edge_trace['y'] += [y0, y1, None]\n",
    "    #edge_trace['line']['width'].append(0.3*(np.log(G2[edge[0]][edge[1]]['duration']+1)-6))\n",
    "    #edge_trace['line']['color'].append(G2[edge[0]][edge[1]]['duration'])\n",
    "    #print(0.3*(np.log(G2[edge[0]][edge[1]]['duration'])-6))\n",
    "    \n",
    "for node in G2.nodes():\n",
    "    x, y = G2.node[node]['pos']\n",
    "    node_trace['x'].append(x)\n",
    "    node_trace['y'].append(y)\n",
    "\n",
    "for node, adjacencies in enumerate(G2.adjacency_list()):\n",
    "    #print(G2.nodes()[node])\n",
    "    #node_trace['marker']['color'].append(len(adjacencies))\n",
    "    node_trace['marker']['color'].append(top_cat_num[G2.nodes()[node]])\n",
    "    node_trace['name'].append(top_cat[G2.nodes()[node]])\n",
    "    node_trace['marker']['size'].append(10+300*(pr[G2.nodes()[node]]))\n",
    "    node_info = G2.nodes()[node]   #'# of connections: '+str(len(adjacencies))\n",
    "    node_trace['text'].append(node_info)\n"
   ]
  },
  {
   "cell_type": "code",
   "execution_count": 7,
   "metadata": {},
   "outputs": [
    {
     "data": {
      "text/html": [
       "<iframe id=\"igraph\" scrolling=\"no\" style=\"border:none;\" seamless=\"seamless\" src=\"https://plot.ly/~brooksjaredc/2.embed\" height=\"525px\" width=\"100%\"></iframe>"
      ],
      "text/plain": [
       "<plotly.tools.PlotlyDisplay object>"
      ]
     },
     "execution_count": 7,
     "metadata": {},
     "output_type": "execute_result"
    }
   ],
   "source": [
    "fig = Figure(data=Data([edge_trace, node_trace]),\n",
    "             layout=Layout(\n",
    "                title='Podcast Network Graph',\n",
    "                titlefont=dict(size=16),\n",
    "                showlegend=False,\n",
    "                hovermode='closest',\n",
    "                margin=dict(b=20,l=5,r=5,t=40),\n",
    "                annotations=[ dict(\n",
    "                    text=\"TV & Film<br><br><br><br><br><br>Sports & Recreation<br><br><br><br><br><br>Society & Culture<br><br><br><br><br><br>Science & Medicine<br><br><br><br><br><br><br>News & Politics<br><br><br><br><br><br>Music<br><br><br><br>Health<br><br><br><br>Education<br><br><br><br><br>Comedy<br><br><br><br><br>Business<br><br><br><br><br>Arts\",\n",
    "                    showarrow=False,\n",
    "                    xref=\"paper\", yref=\"paper\",\n",
    "                    x=1.03, y=0.96) ],\n",
    "                xaxis=XAxis(showgrid=False, zeroline=False, showticklabels=False),\n",
    "                yaxis=YAxis(showgrid=False, zeroline=False, showticklabels=False)))\n",
    "\n",
    "py.iplot(fig, filename='test_network')"
   ]
  },
  {
   "cell_type": "code",
   "execution_count": 9,
   "metadata": {},
   "outputs": [
    {
     "data": {
      "text/plain": [
       "'Health'"
      ]
     },
     "execution_count": 9,
     "metadata": {},
     "output_type": "execute_result"
    }
   ],
   "source": [
    "top_cat['Jen Kirkman']"
   ]
  },
  {
   "cell_type": "code",
   "execution_count": null,
   "metadata": {},
   "outputs": [],
   "source": []
  }
 ],
 "metadata": {
  "kernelspec": {
   "display_name": "Python [conda env:anaconda3]",
   "language": "python",
   "name": "conda-env-anaconda3-py"
  },
  "language_info": {
   "codemirror_mode": {
    "name": "ipython",
    "version": 3
   },
   "file_extension": ".py",
   "mimetype": "text/x-python",
   "name": "python",
   "nbconvert_exporter": "python",
   "pygments_lexer": "ipython3",
   "version": "3.5.5"
  }
 },
 "nbformat": 4,
 "nbformat_minor": 2
}
