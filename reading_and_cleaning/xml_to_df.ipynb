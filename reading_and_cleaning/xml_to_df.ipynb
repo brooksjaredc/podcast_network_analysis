{
 "cells": [
  {
   "cell_type": "code",
   "execution_count": 1,
   "metadata": {},
   "outputs": [],
   "source": [
    "import xml.etree.ElementTree as ET\n",
    "import numpy as np\n",
    "import pandas as pd\n",
    "import re\n",
    "import networkx as nx\n",
    "import datetime as dt\n",
    "import time\n",
    "\n",
    "from cleaning_functions import *\n",
    "from cleaners import *\n",
    "\n",
    "%matplotlib notebook"
   ]
  },
  {
   "cell_type": "code",
   "execution_count": null,
   "metadata": {},
   "outputs": [],
   "source": [
    "df = pd.read_csv('cleaned_podcasts.csv', sep='\\t', index_col=0)\n",
    "df"
   ]
  },
  {
   "cell_type": "code",
   "execution_count": null,
   "metadata": {},
   "outputs": [],
   "source": [
    "split_hosts = splitDataFrameList(df, 'hosts', ', ')\n",
    "split_hosts\n",
    "\n",
    "G1 = nx.from_pandas_dataframe(split_hosts, 'guests', 'hosts', edge_attr=['date', 'duration', 'podcast'], create_using=nx.MultiDiGraph())"
   ]
  },
  {
   "cell_type": "code",
   "execution_count": null,
   "metadata": {},
   "outputs": [],
   "source": [
    "\n",
    "G1.edges(data=True)\n",
    "#nx.average_shortest_path_length(G1)\n",
    "#nx.eccentricity(G1,'Joe Rogan')\n",
    "#nx.shortest_path_length(G1, \"the hosts\")\n",
    "#nx.shortest_path(G1, 'President Barack Obama', 'Dan Harmon')\n",
    "len(G1.edges())"
   ]
  },
  {
   "cell_type": "code",
   "execution_count": null,
   "metadata": {},
   "outputs": [],
   "source": [
    "carasantamaria = xml_to_df('rss_files/carasantamaria.xml')\n",
    "carasantamaria"
   ]
  },
  {
   "cell_type": "code",
   "execution_count": null,
   "metadata": {},
   "outputs": [],
   "source": [
    "econtalk2013 = xml_to_df_desc('rss_files/econtalk2013.xml')\n",
    "econtalk2006 = xml_to_df_desc('rss_files/econtalk2006.xml')\n",
    "\n",
    "def clean_econtalk2006(econtalk2006):\n",
    "        \n",
    "    date_parser('\\s(EST|GMT)$', econtalk2006)\n",
    "    \n",
    "    econtalk2006['guests'] = econtalk2006.description.str.extract(r'([\\w\\s\\'\\.]+)',expand=True)\n",
    "    \n",
    "    guest_split(', ', econtalk2006)\n",
    "    guest_split(' of', econtalk2006)\n",
    "    guest_split(' talks', econtalk2006)\n",
    "    \n",
    "    guest_split_last('Nobel Laureate ', econtalk2006)\n",
    "    guest_split_last('syndicated columnist ', econtalk2006)\n",
    "    guest_split_last('Investigative journalist ', econtalk2006)\n",
    "    guest_split_last('Author ', econtalk2006)\n",
    "    guest_split_last('Novelist ', econtalk2006)\n",
    "    guest_split_last('The legendary ', econtalk2006)\n",
    "            \n",
    "    econtalk2006 = econtalk2006[econtalk2006.guests.str.contains('This is the') == False]\n",
    "    econtalk2006 = econtalk2006[econtalk2006.guests.str.contains('EconTalk host') == False]\n",
    "    econtalk2006 = econtalk2006[econtalk2006.guests.str.contains('In this bonus') == False]\n",
    "    \n",
    "    econtalk2006 = splitDataFrameList(econtalk2006, 'guests', ' and ')\n",
    "\n",
    "    return econtalk2006\n",
    "\n",
    "econtalk2006 = clean_econtalk2006(econtalk2006)\n",
    "\n",
    "econtalk2006"
   ]
  },
  {
   "cell_type": "markdown",
   "metadata": {},
   "source": [
    "## podcasts to download\n",
    "\n"
   ]
  }
 ],
 "metadata": {
  "kernelspec": {
   "display_name": "Python [conda root]",
   "language": "python",
   "name": "conda-root-py"
  },
  "language_info": {
   "codemirror_mode": {
    "name": "ipython",
    "version": 3
   },
   "file_extension": ".py",
   "mimetype": "text/x-python",
   "name": "python",
   "nbconvert_exporter": "python",
   "pygments_lexer": "ipython3",
   "version": "3.5.5"
  }
 },
 "nbformat": 4,
 "nbformat_minor": 2
}
